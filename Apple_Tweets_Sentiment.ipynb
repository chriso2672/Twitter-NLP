{
 "cells": [
  {
   "cell_type": "markdown",
   "metadata": {},
   "source": [
    "# Apple Sentiment Analysis\n",
    "---\n",
    "**Authors:** [Chris O'Malley](https://github.com/chriso2672), [Ted Brandon](https://github.com/theobigdog), [Kelsey Lane](https://github.com/kelsklane)"
   ]
  },
  {
   "cell_type": "markdown",
   "metadata": {},
   "source": [
    "## Overview\n",
    "---\n",
    "This project uses data scrapped from [Twitter by CrowdFlower](https://data.world/crowdflower/brands-and-product-emotions) that contains positive, neutral, and negative sentiment towards Apple and Google products. These tweets were scrapped from various #sxsw hashtags on August 30, 2013. We aim to help Apple's product team get a better sense of how consumer's reacted to their presentation to better understand the market and how they could improve. We did this by using sentiment analysis to gage the reaction to their presentation and created a model **results and recommendations**"
   ]
  },
  {
   "cell_type": "markdown",
   "metadata": {},
   "source": [
    "## Technical Understanding\n",
    "---\n",
    "In this notebook we used only the tweets scrapped from the [CrowdFlower Twitter dataset](https://data.world/crowdflower/brands-and-product-emotions) that pretained to Apple, as that is the company we are targeting in our analysis. After loading in the data with pandas, that left us with 5,428 tweets and their predetermined sentiment. We cleaned the tweets of any odd characters and leftover artifacts from scrapping like links using regex. After using the Tweet tokenizer from nltk, we kept the text in uppercase and kept stopwords, as this resulted in the best fit for out model. Any non-relevant punctuation was then removed and the final tokens were lemmatized using the required libraries from nltk. From sklearn we used both a DecisionTreeClassifier and MultinomialNB to model the three different levels, as MultinomialNB works well with text data and a decision tree was another good simpler model that would give us a comparison. Furthermore, we felt opting for simpler model options and avoiding ones like different ensembles was a good call, as we have limited computation power and if this was to theoretically scale, a simpler model would take up less computational power. For the decision tree we tuned the depth of the tree, the minimum number of samples needed to split, and the criterion used. As for multinomial Bayes we compared CountVectorizer with the tfidfvectorizer and adjusted the threshold for the max number of features vectorized, as well as the percentage cutoff for the maximum and minimum of the data for both. Our final model that performed the best was the Multinomial Bayes with a tfidfvectorizer that lopped off the top 20% of the data. Of the models it was the least overfit when checking with cross validation and still performed well. The final accurracy of the testing set was 62%."
   ]
  },
  {
   "cell_type": "markdown",
   "metadata": {},
   "source": [
    "The notebook should include a summary at the beginning that briefly and accurately describes your process. The summary should be approximately 250 words -- about the size of a research paper abstract.\n",
    "\n",
    "Summary elements:\n",
    "\n",
    "Business and data understanding:\n",
    "- what kind of data are you using, and what makes it well-suited for the business problem?\n",
    "- You do not need to include any data visualizations in your summary, but consider including relevant descriptive statistics\n",
    "\n",
    "Data preparation:\n",
    "- why did you choose the data preparation steps that you did, and what was the result?\n",
    "- This should be specific to the kind of data you are working with. For example, if you are doing an NLP project, what did you decide to do with stopwords?\n",
    "- Be sure to list the packages/libraries used to prepare the data, and why\n",
    "\n",
    "Modeling: \n",
    "- what modeling package(s) did you use, which model(s) within the package(s), and what tuning steps did you take?\n",
    "- For some projects there may be only one applicable package; you should still briefly explain why this was the appropriate choice\n",
    "\n",
    "Evaluation: \n",
    "- how well did your final model perform?\n",
    "- Include one or more relevant metrics\n",
    "- Be sure to briefly describe your validation approach"
   ]
  },
  {
   "cell_type": "markdown",
   "metadata": {},
   "source": [
    "## Buisness Understanding\n",
    "---\n",
    "Apple product team as stakeholder. Want to gain insight into consumer reaction to announcement at SXSW conference and provide further action. Going forward, use sentiment analysis to gauge consumer reaction to new products on Twitter to help identify percentage of people that recieve news well vs. those that dislike it. Furthermore, model can pick up on neutral consumers to be able to hone in on them and convert them to buyers/positive in the future. Implication is that able to improve their marketing strategy and product based on real-time feedback from tweets to make a better product.\n",
    "\n",
    "- Explain real world problem\n",
    "- Identify stakeholder and how use\n",
    "- Implication of project for real-wolrd problem and stakeholder"
   ]
  },
  {
   "cell_type": "markdown",
   "metadata": {},
   "source": [
    "## Data Understanding\n",
    "---\n",
    "The data used for this project was scrapped by Crowdflower on August 30, 2013 and comes from data.world. Originally the dataset contained tweets pretaining to both Apple and Google's presentation at the 2013 SXSW conference and had 9,093 tweets alongside their human-judged sentiment and towards what product the sentiment was directed."
   ]
  },
  {
   "cell_type": "code",
   "execution_count": 65,
   "metadata": {},
   "outputs": [],
   "source": [
    "#Import needed modules\n",
    "import pandas as pd\n",
    "import numpy as np\n",
    "import matplotlib.pyplot as plt\n",
    "import seaborn as sns\n",
    "import nltk\n",
    "import re\n",
    "from nltk.tokenize import TweetTokenizer\n",
    "from nltk.corpus import stopwords, wordnet\n",
    "from nltk import pos_tag\n",
    "from nltk.stem import WordNetLemmatizer\n",
    "from sklearn.model_selection import train_test_split, cross_val_score\n",
    "from sklearn.tree import DecisionTreeClassifier\n",
    "from imblearn.pipeline import Pipeline as imbpipeline\n",
    "from sklearn.compose import ColumnTransformer\n",
    "from sklearn.preprocessing import OneHotEncoder\n",
    "from imblearn.over_sampling import SMOTE\n",
    "from sklearn.naive_bayes import MultinomialNB\n",
    "from sklearn.feature_extraction.text import CountVectorizer, TfidfVectorizer\n",
    "from sklearn.model_selection import GridSearchCV\n",
    "\n",
    "#Read in the data\n",
    "df = pd.read_csv('data/tweets.csv', encoding = 'iso-8859-1')"
   ]
  },
  {
   "cell_type": "markdown",
   "metadata": {},
   "source": [
    "However, as our project is only interested in looking at reactions to Apple products, we narrowed the dataset down to only tweets the pretained to Apple."
   ]
  },
  {
   "cell_type": "code",
   "execution_count": 5,
   "metadata": {},
   "outputs": [],
   "source": [
    "#Grabs any tweets already labeled with Apple products/company\n",
    "ipad = df[df['emotion_in_tweet_is_directed_at'] == 'iPad']\n",
    "apple = df[df['emotion_in_tweet_is_directed_at'] == 'Apple']\n",
    "mix = df[df['emotion_in_tweet_is_directed_at'] == 'iPad or iPhone App']\n",
    "iphone = df[df['emotion_in_tweet_is_directed_at'] == 'iPhone']\n",
    "apps = df[df['emotion_in_tweet_is_directed_at'] == 'Other Apple product or service']\n",
    "\n",
    "#Grabs tweets with no company label\n",
    "no_labels = df[df['emotion_in_tweet_is_directed_at'].isna()]\n",
    "no_labels = no_labels.dropna(subset = ['tweet_text'])\n",
    "\n",
    "#Checks non-labeled tweets for mentions of apple products\n",
    "tweet_list = []\n",
    "for tweet in no_labels['tweet_text']:\n",
    "    #Lowers the tweet text and checks for relevant product names\n",
    "    tweet_check = tweet.lower()\n",
    "    if ('iphone' in tweet_check) or ('ipad' in tweet_check) or ('apple' in tweet_check):\n",
    "        tweet_list.append(tweet)\n",
    "        \n",
    "#Grabs the actual rows with Apple tweets, drops duplicates and merges to one datset\n",
    "unlabeled_apple = df[df['tweet_text'].isin(tweet_list)]\n",
    "unlabeled_apple = unlabeled_apple.drop_duplicates(subset = 'tweet_text')\n",
    "final_df = pd.concat([ipad, apple, mix, iphone, apps, unlabeled_apple], axis = 0)"
   ]
  },
  {
   "cell_type": "markdown",
   "metadata": {},
   "source": [
    "This leaves us with the subset of tweets that talk about Apple or Apple products somewhere in them. However, within the column that labels the sentiment of the tweet there are ones that are labeled as \"I can't tell\" for the sentiment. As these are unknown and we can't gain any insight from them we opted to drop them."
   ]
  },
  {
   "cell_type": "code",
   "execution_count": 7,
   "metadata": {},
   "outputs": [],
   "source": [
    "#Filters out any rows where the sentiment is unknown\n",
    "tweets = final_df[final_df['is_there_an_emotion_directed_at_a_brand_or_product'] != 'I can\\'t tell']"
   ]
  },
  {
   "cell_type": "markdown",
   "metadata": {},
   "source": [
    "This leaves us with 5,428 tweets to use in the analysis. As the column that describes the target of the sentiment is 60% null values, we opted to drop it and replace it with a more refined feature later on."
   ]
  },
  {
   "cell_type": "code",
   "execution_count": 9,
   "metadata": {},
   "outputs": [],
   "source": [
    "#Drops column\n",
    "tweets = tweets.drop('emotion_in_tweet_is_directed_at', axis = 1)"
   ]
  },
  {
   "cell_type": "markdown",
   "metadata": {},
   "source": [
    "Finally, for legibility we changed the column with the sentiment ('is_there_an_emotion_directed_at_a_brand_or_product') to label to make it easier to read and mapped the targets to 0 for negative, 1 for positive, and 2 for neutral. Noteably, there is a class imbalance where neutral tweets represent 50% of the data, while positive tweets account for about 40% of the data and negative tweets under 10%."
   ]
  },
  {
   "cell_type": "code",
   "execution_count": 11,
   "metadata": {},
   "outputs": [],
   "source": [
    "#Saves values to new columm and drops the old one\n",
    "tweets['label'] = tweets['is_there_an_emotion_directed_at_a_brand_or_product']\n",
    "tweets = tweets.drop('is_there_an_emotion_directed_at_a_brand_or_product', axis = 1)\n",
    "\n",
    "#Reassigns the sentiment labels to numbers\n",
    "tweets.label = tweets.label.map({'Negative emotion' : 0, 'Positive emotion': 1, \n",
    "                                 'No emotion toward brand or product': 2})"
   ]
  },
  {
   "cell_type": "markdown",
   "metadata": {},
   "source": [
    "This analysis obviously has some limitations. For one, we sorted out the Google data in order to hone in on Apple, but with this we lose the ability to compare Apple's performance to their competitiors. As the competitions production could impact how Apple's is recieved, this is a nuance that is lost through this analysis. Furthermore, we are limited in the sentiment analysis we have. More granularity to the degree of negative or positive reception could help refine the model more, but that insight is lost given the levels we have. Finally, this analysis is only based on tweets, but product reception is also talked about on other platforms. Therefore, our analysis would benefit to widening the net to other platforms and building analyzers that work with these text patterns."
   ]
  },
  {
   "cell_type": "markdown",
   "metadata": {},
   "source": [
    "## Data Preparation\n",
    "---\n",
    "As mentioned above, we got rid of the column that identifies the specific product the tweet is about due to the large number of nulls and general inaccuracy of the column, as with exploration the labels did not seem to match well with the tweet content. Below, we use the what_product function to replace this column with a new one. This assumes that the tweet does not refer to multiple products, which is possible but from exploration does not seem to happen. The order is also used to try and filter for certain products before others that might occur in the same tweet. This felt like an important feature to include as certain products may have been recieved better while others recieved a stronger negative reaction. Therefore, this feature is included to account for how these differences may affect sentiment. While around 50% of the tweets seem to be about the iPad, 20% are about Apple or the iPhone, while apps account for 10% of the tweets, with a very small percentage of tweets not containing any product-specific language."
   ]
  },
  {
   "cell_type": "code",
   "execution_count": 45,
   "metadata": {},
   "outputs": [],
   "source": [
    "#Returns a string with the product\n",
    "def what_product(tweet):\n",
    "    tweet_check = tweet.lower()\n",
    "    #Checks for apps before the phone as there is likely a high co-occurrance\n",
    "    if ('app ' in tweet_check) or ('apps ' in tweet_check):\n",
    "        return 'App'\n",
    "    #Checks if tweet is about the iphone\n",
    "    if ('iphone' in tweet_check) or ('phone' in tweet_check):\n",
    "        return 'Phone'\n",
    "    #Checks if the tweet is about the ipad\n",
    "    if ('ipad' in tweet_check):\n",
    "        return 'iPad'\n",
    "    #Anything mentioning Apple returned as company\n",
    "    if ('apple' in tweet_check):\n",
    "        return 'Company'\n",
    "    #Any Apple related tweets that dont mention anything specific lumped to general\n",
    "    else:\n",
    "        return 'General'\n",
    "\n",
    "#Adds product column to the tweets\n",
    "tweets['what_product'] = tweets['tweet_text'].apply(what_product)"
   ]
  },
  {
   "cell_type": "markdown",
   "metadata": {},
   "source": [
    "Another feature added is one that keeps track of the ratio of capital letters to other characters in the tweet. This feature was included as the case of the letters is a parameter that gets tweaked during various model iterations, but the presence of capital letters could indicate the sentiment of a tweet. For example, someone whose particularly excited may tweet in all caps compared to someone whose more neutral. Therefore, this information is retained and highlighted as its own feature, where the quantity of capital letters is computed as a ratio to the other characters in a tweet so that tweet length doesn't inadvertantly bias the feature."
   ]
  },
  {
   "cell_type": "code",
   "execution_count": 50,
   "metadata": {},
   "outputs": [],
   "source": [
    "def capital_letter_ratio(tweet):\n",
    "    #Initilizes count variable\n",
    "    capital_count = 0\n",
    "    #Checks each character in the tweet\n",
    "    for c in tweet:\n",
    "        #Increments count if capital letter is present\n",
    "        if c.isupper():\n",
    "            capital_count += 1\n",
    "    return capital_count / len(tweet)\n",
    "\n",
    "#Adds capital letter ratio column to the tweets\n",
    "tweets['capital_letter_ratio'] = tweets['tweet_text'].apply(capital_letter_ratio)"
   ]
  },
  {
   "cell_type": "markdown",
   "metadata": {},
   "source": [
    "Finally, both positive and negative tweets are liable to spam question marks and exclamation points to indicate strong emotion. As punctuation isn't clearly captured in the tokenization process with duplicate marks getting deleted, this function counts up any existing versions of these punctuation marks to retain this information. This is useful as a featuer as it can help distinguish tweets with a positive or negative sentiment from a neutral one."
   ]
  },
  {
   "cell_type": "code",
   "execution_count": 51,
   "metadata": {},
   "outputs": [],
   "source": [
    "def exc_que_count(tweet):\n",
    "    #Punctuation to look for\n",
    "    punctuation = '!?'\n",
    "    #Initilizes count variable\n",
    "    count = 0\n",
    "    #Looks for any punctuation in the string and increments count accordingly\n",
    "    for p in punctuation:\n",
    "        count += tweet.count(p)\n",
    "    return count\n",
    "\n",
    "#Adds !? count column to the tweets\n",
    "tweets['capital_letter_ratio'] = tweets['tweet_text'].apply(capital_letter_ratio)"
   ]
  },
  {
   "cell_type": "markdown",
   "metadata": {},
   "source": [
    "There is one tweet in the dataset with a null tweet value, so this lone row is dropped below."
   ]
  },
  {
   "cell_type": "code",
   "execution_count": 52,
   "metadata": {},
   "outputs": [],
   "source": [
    "tweets = tweets.dropna()"
   ]
  },
  {
   "cell_type": "markdown",
   "metadata": {},
   "source": [
    "While the tokenizer is called later during modeling, the function used to clean and process the tweets into tokens is included below first to walk through its execution. The tokenizer cleans up the text by removing any instances of links or the #sxsw hashtag, as the links don't convey any important meaning and these hashtag variations are what was used to scrape for the tweets, so they're common across all tweets. Next, any non-ASCII character is removed to clean up any non-words. The tweets are then tokenized using nltk's tweet tokenizer and these tokens are then cleaned of any unwanted puntuation or 'rt' \"words\" that are artifacts left by Twitter to indicate if a tweet retweets another and thus doesn't convey any information. Finally, the tokens are tagged with their part of speech and lemmatized, as tense and other affixes wouldn't contribute any extra information so the tokens are stripped of these to help limit dimentionality. Noteably, stopwords are not stripped from the text. Through testing different parameters, we found that including stopwords can actually increase model performance."
   ]
  },
  {
   "cell_type": "code",
   "execution_count": 54,
   "metadata": {},
   "outputs": [],
   "source": [
    "#Functions to tokenize text\n",
    "import string\n",
    "\n",
    "#Replaces pos tags with lemmatize compatable tags\n",
    "def pos_replace(treebank_tag):\n",
    "    if treebank_tag.startswith('J'):\n",
    "        return wordnet.ADJ\n",
    "    elif treebank_tag.startswith('V'):\n",
    "        return wordnet.VERB\n",
    "    elif treebank_tag.startswith('N'):\n",
    "        return wordnet.NOUN\n",
    "    elif treebank_tag.startswith('R'):\n",
    "        return wordnet.ADV\n",
    "    else:\n",
    "        return wordnet.NOUN\n",
    "    \n",
    "#Makes list of punctuation to exclude, keeps certain symbols\n",
    "punct = list(string.punctuation)\n",
    "keep_punct = ['#', '?', '!', '@']\n",
    "punct = [p for p in punct if p not in keep_punct]\n",
    "\n",
    "#Used to filter rt\n",
    "common_tweet_words = ['rt']\n",
    "\n",
    "#Removes non-ASCII characters\n",
    "def remove_junk(tweet):\n",
    "    return ''.join([i if ord(i) < 128 else ' ' for i in tweet])\n",
    "    \n",
    "def tweet_tokenizer(doc):\n",
    "    #Gets rid of links\n",
    "    doc = re.sub(r'http\\S+', '', doc)\n",
    "    doc = re.sub(r'www\\.[a-z]?\\.?(com)+|[a-z]+\\.(com)', '', doc)\n",
    "    #Gets rid of #sxsw hashtag variations\n",
    "    doc = re.sub(r'(?i)(#sxsw)\\w*', '', doc)\n",
    "    #Gets rid of conversions made during scrapping\n",
    "    doc = re.sub(r'{link}', '', doc)\n",
    "    doc = re.sub(r'\\[video\\]', '', doc)\n",
    "    #Gets rid of weird characters\n",
    "    doc = remove_junk(doc)\n",
    "    #Tokenizes using NLTK Twitter Tokenizer\n",
    "    tweet_token = TweetTokenizer(strip_handles = True)\n",
    "    doc = tweet_token.tokenize(doc)\n",
    "    #Gets rid of any tokens that represent if the tweet was retweeted\n",
    "    doc = [w for w in doc if w.lower() not in common_tweet_words]\n",
    "    #Gets rid  of any punctuation that we don't want to keep\n",
    "    doc = [w for w in doc if w not in punct]\n",
    "    #Lemmatizes tokens\n",
    "    doc = pos_tag(doc)\n",
    "    doc = [(w[0], pos_replace(w[1])) for w in doc]\n",
    "    lemmatizer = WordNetLemmatizer() \n",
    "    doc = [lemmatizer.lemmatize(word[0], word[1]) for word in doc]\n",
    "    \n",
    "    return doc"
   ]
  },
  {
   "cell_type": "markdown",
   "metadata": {},
   "source": [
    "Finally, we opted to keep retweets in the dataset. While this may artifically increase certain words so they become overrepresented, we feel that the magnification of sentiment of these tweets was still important information. **Add in information here about %RTs vs. non-RT tweets**. Therefore, while it may impact the representation of some words in the data, the amplified sentiment the retweets supply may help model performance."
   ]
  },
  {
   "cell_type": "markdown",
   "metadata": {},
   "source": [
    "## First Simple Model\n",
    "---\n",
    "The first simple model we looked at was a decision tree that only gets fed the tokenized tweets without any additional columns. This was just to get a sense of how a very simple model would work when not supplied with any additional information to establish a baseline"
   ]
  },
  {
   "cell_type": "code",
   "execution_count": 55,
   "metadata": {},
   "outputs": [
    {
     "name": "stdout",
     "output_type": "stream",
     "text": [
      "Training Score: 0.4591009579955785\n",
      "Validation Score:0.43404531134592494\n"
     ]
    }
   ],
   "source": [
    "y = tweets['label']\n",
    "X = tweets['tweet_text']\n",
    "X_train, X_test, y_train, y_test = train_test_split(X, y, random_state = 213)\n",
    "\n",
    "baseline = imbpipeline(steps=[\n",
    "    ('preproc', CountVectorizer(encoding = 'iso-8859-1', lowercase = False, tokenizer = tweet_tokenizer)),\n",
    "    ('smote', SMOTE(sampling_strategy = 'not majority', random_state=11)),\n",
    "    ('dtc', DecisionTreeClassifier(random_state = 213, max_depth = 5))\n",
    "])\n",
    "\n",
    "baseline.fit(X_train, y_train)\n",
    "print(\"Training Score:\", baseline.score(X_train, y_train))\n",
    "scores = np.mean(cross_val_score(baseline, X_train, y_train, cv=5))\n",
    "print(\"Validation Score:\" + str(scores))"
   ]
  },
  {
   "cell_type": "markdown",
   "metadata": {},
   "source": [
    "## Multinomial Bayes Models\n",
    "---\n",
    "The first model type we wanted to test out was Multinomial Bayes, as Bayes models tend to do well with text classification and would likely show an improvement over a simple decision tree. As we are not doing binary classification, we opted for Multinomial Bayes and we started with the CountVectorizer as it wasn't clear if weighting the words across different tweets using TF_IDF would yield any additional help to the model. We also included the features created above in order to help improve model performance. Finally, as Multinomial Bayes accounts for class probabilities, we opted not to SMOTE the minority classes, as even in iterations of the model that included SMOTE it seemed to decrease model performance rather than improve it."
   ]
  },
  {
   "cell_type": "code",
   "execution_count": 59,
   "metadata": {},
   "outputs": [
    {
     "name": "stdout",
     "output_type": "stream",
     "text": [
      "Training Score: 0.8403340702530091\n",
      "Validation Score:0.6190105666179286\n"
     ]
    }
   ],
   "source": [
    "#Creates features and target then performs train test split\n",
    "y = tweets['label']\n",
    "X = tweets.drop('label', axis = 1)\n",
    "X_train, X_test, y_train, y_test = train_test_split(X, y, random_state = 213)\n",
    "\n",
    "#Creates preprocessing step\n",
    "count_vec = ColumnTransformer([\n",
    "    ('cv', CountVectorizer(encoding = 'iso-8859-1', lowercase = False, tokenizer = tweet_tokenizer), 'tweet_text'),\n",
    "    ('ohe', OneHotEncoder(), ['what_product'])],\n",
    "    remainder = 'passthrough')\n",
    "\n",
    "#Creates pipeline for model\n",
    "apple_cv = imbpipeline(steps=[\n",
    "    ('preproc', count_vec),\n",
    "    ('mnb', MultinomialNB())\n",
    "])\n",
    "\n",
    "#Fits model and prints training score\n",
    "apple_cv.fit(X_train, y_train)\n",
    "print(\"Training Score:\", apple_cv.score(X_train, y_train))\n",
    "#Cross validates model and prints average result\n",
    "scores = np.mean(cross_val_score(apple_cv, X_train, y_train, cv=5))\n",
    "print(\"Validation Score:\" + str(scores))"
   ]
  },
  {
   "cell_type": "markdown",
   "metadata": {},
   "source": [
    "While the above model improves on the first simple model, it overfits the data as there is a gap of almost .22 between training and validation scores. To see if we can bring this overfitting down, another Multinomaial Bayes model is run with TF_IDF as the vectorizer to see if this can help."
   ]
  },
  {
   "cell_type": "code",
   "execution_count": 64,
   "metadata": {},
   "outputs": [
    {
     "name": "stdout",
     "output_type": "stream",
     "text": [
      "Training Score: 0.7523949889462048\n",
      "Validation Score:0.6192598845359581\n"
     ]
    }
   ],
   "source": [
    "#Creates preprocessing step for pipeline\n",
    "tfidf_vec = ColumnTransformer([\n",
    "    ('tfidf', TfidfVectorizer(encoding = 'iso-8859-1', lowercase = False, tokenizer = tweet_tokenizer), 'tweet_text'),\n",
    "    ('ohe', OneHotEncoder(), ['what_product'])],\n",
    "    remainder = 'passthrough')\n",
    "\n",
    "#Creates pipeline for model\n",
    "apple_tfidf = imbpipeline(steps=[\n",
    "    ('preproc', tfidf_vec),\n",
    "    ('mnb', MultinomialNB())\n",
    "])\n",
    "\n",
    "#Fits model and prints training and cross validation scores\n",
    "apple_tfidf.fit(X_train, y_train)\n",
    "print(\"Training Score:\", apple_tfidf.score(X_train, y_train))\n",
    "scores = np.mean(cross_val_score(apple_tfidf, X_train, y_train, cv=5))\n",
    "print(\"Validation Score:\" + str(scores))"
   ]
  },
  {
   "cell_type": "markdown",
   "metadata": {},
   "source": [
    "While the training score goes down, this model overfits less compared to the first, and therefore is the version we proceed with. In order to tune it and try and get an improvement on validation scores, we run this pipeline through a gridserach to try and figure out what parameters in the vectorizer could potentially help reduce the overfitting present currently. We test max features alongside max_df to see if limiting the more and less common words could improve model fit, as well as looking at the inclusion of bigrams to see if they add any additional information."
   ]
  },
  {
   "cell_type": "code",
   "execution_count": 80,
   "metadata": {},
   "outputs": [
    {
     "data": {
      "text/plain": [
       "{'preproc__tfidf__max_df': 0.75,\n",
       " 'preproc__tfidf__max_features': 2000,\n",
       " 'preproc__tfidf__ngram_range': (1, 1)}"
      ]
     },
     "execution_count": 80,
     "metadata": {},
     "output_type": "execute_result"
    }
   ],
   "source": [
    "#Creates parameters to test\n",
    "params = {\n",
    "    'preproc__tfidf__max_features': [1000, 2000, 4000, 8000],\n",
    "    'preproc__tfidf__max_df': [.75, .85, .95],\n",
    "    'preproc__tfidf__ngram_range': [(1,1), (1,2), (2,2)]\n",
    "}\n",
    "\n",
    "#Fits gridsearch on model and prints out the best parameters\n",
    "search = GridSearchCV(apple_tfidf, param_grid = params, scoring = 'accuracy', cv = 3)\n",
    "search.fit(X_train, y_train)\n",
    "search.best_params_"
   ]
  },
  {
   "cell_type": "markdown",
   "metadata": {},
   "source": [
    "It looks like ignoring terms in the top 25% of frequency and limiting the vectorizer to only 2,000 words while sticking with only unigrams outputs the best performance. While the adjusted model below shows only slight changes in the score, there is still a reduction in overfitting. The training score has also gone down again, but this is the best model so far and is the best bet in terms of being able to accurately predict with new data."
   ]
  },
  {
   "cell_type": "code",
   "execution_count": 81,
   "metadata": {},
   "outputs": [
    {
     "name": "stdout",
     "output_type": "stream",
     "text": [
      "Training Score: 0.7273397199705232\n",
      "Validation Score:0.6327721921586952\n"
     ]
    }
   ],
   "source": [
    "tfidf_vec = ColumnTransformer([\n",
    "    ('tfidf', TfidfVectorizer(encoding = 'iso-8859-1', lowercase = False, tokenizer = tweet_tokenizer, \n",
    "                              max_df = .75, max_features = 2000), 'tweet_text'),\n",
    "    ('ohe', OneHotEncoder(), ['what_product'])],\n",
    "    remainder = 'passthrough')\n",
    "\n",
    "apple_tuned = imbpipeline(steps=[\n",
    "    ('preproc', tfidf_vec),\n",
    "    ('mnb', MultinomialNB())\n",
    "])\n",
    "\n",
    "apple_tuned.fit(X_train, y_train)\n",
    "print(\"Training Score:\", apple_tuned.score(X_train, y_train))\n",
    "scores = np.mean(cross_val_score(apple_tuned, X_train, y_train, cv=5))\n",
    "print(\"Validation Score:\" + str(scores))"
   ]
  },
  {
   "cell_type": "markdown",
   "metadata": {},
   "source": [
    "# Decision Tree Models"
   ]
  },
  {
   "cell_type": "markdown",
   "metadata": {},
   "source": [
    "While we thought Multinomial Bayes would give us the best result, we also wanted to test out a different classifier to see if we could get any improvement in score. While a simpler decision tree was run above with only tweets, we ran another one with the added features and no hyperparameters to see what the change in score would be. As the TfidfVectorizer performed better with Bayes above, we opted to keep it as the vectorizer here. Furthermore, as decision trees don't account for class imbalance unlike Bayes, we oversampled the minority class, negative tweets, using SMOTE."
   ]
  },
  {
   "cell_type": "code",
   "execution_count": 72,
   "metadata": {},
   "outputs": [
    {
     "name": "stdout",
     "output_type": "stream",
     "text": [
      "Training Score: 0.9992630803242447\n",
      "Validation Score:0.5725846761429584\n"
     ]
    }
   ],
   "source": [
    "#Establishes preprocessing for the decision tree\n",
    "count_vec = ColumnTransformer([\n",
    "    ('cv', TfidfVectorizer(encoding = 'iso-8859-1', lowercase = False, tokenizer = tweet_tokenizer), 'tweet_text'),\n",
    "    ('ohe', OneHotEncoder(), ['what_product'])],\n",
    "    remainder = 'passthrough')\n",
    "\n",
    "#Creates decision tree pipeline\n",
    "apple_dt = imbpipeline(steps=[\n",
    "    ('preproc', count_vec),\n",
    "    ('smote', SMOTE(sampling_strategy = 'minority', random_state = 213)),\n",
    "    ('dtc', DecisionTreeClassifier(random_state = 213))\n",
    "])\n",
    "\n",
    "#Fits the new model on the data and prints the score for training and cross validation\n",
    "apple_dt.fit(X_train, y_train)\n",
    "print(\"Training Score:\", apple_dt.score(X_train, y_train))\n",
    "scores = np.mean(cross_val_score(apple_dt, X_train, y_train, cv=5))\n",
    "print(\"Validation Score:\" + str(scores))"
   ]
  },
  {
   "cell_type": "markdown",
   "metadata": {},
   "source": [
    "Despite the fantastic training score, the tree is clearly overfitting. In order to tune the tree and hopefully reduce the overfitting, we ran another gridsearch for the decision tree to tune the hypterparameters."
   ]
  },
  {
   "cell_type": "code",
   "execution_count": 76,
   "metadata": {},
   "outputs": [
    {
     "data": {
      "text/plain": [
       "{'dtc__criterion': 'entropy',\n",
       " 'dtc__max_depth': 30,\n",
       " 'dtc__min_samples_split': 2}"
      ]
     },
     "execution_count": 76,
     "metadata": {},
     "output_type": "execute_result"
    }
   ],
   "source": [
    "#Creates parameters to test\n",
    "params = {\n",
    "    'dtc__max_depth': [None, 20, 30],\n",
    "    'dtc__criterion': ['gini', 'entropy'],\n",
    "    'dtc__min_samples_split': [2, 5, 10]\n",
    "}\n",
    "\n",
    "#Fits gridsearch on model and prints out the best parameters\n",
    "search = GridSearchCV(apple_dt, param_grid = params, scoring = 'accuracy', cv = 3)\n",
    "search.fit(X_train, y_train)\n",
    "search.best_params_"
   ]
  },
  {
   "cell_type": "markdown",
   "metadata": {},
   "source": [
    "These tuned parameters were then fed into the model below. While the overfitting does go down, it's still pretty substantial. Therefore, the final model we opted to go with was the tuned Multinomal Bayes on above, as it had the least amount of overfitting while still retaining a decent amount of accuracy."
   ]
  },
  {
   "cell_type": "code",
   "execution_count": 77,
   "metadata": {},
   "outputs": [
    {
     "name": "stdout",
     "output_type": "stream",
     "text": [
      "Training Score: 0.8658806190125277\n",
      "Validation Score:0.5779915889118343\n"
     ]
    }
   ],
   "source": [
    "#Adjusts the model in the pipeline to include new parameters\n",
    "apple_dt_tuned = imbpipeline(steps=[\n",
    "    ('preproc', count_vec),\n",
    "    ('smote', SMOTE(sampling_strategy = 'minority', random_state = 213)),\n",
    "    ('dtc', DecisionTreeClassifier(max_depth = 30, random_state = 213))\n",
    "])\n",
    "\n",
    "#Fits the new model and prints out training and validation scores\n",
    "apple_dt_tuned.fit(X_train, y_train)\n",
    "print(\"Training Score:\", apple_dt_tuned.score(X_train, y_train))\n",
    "scores = np.mean(cross_val_score(apple_dt_tuned, X_train, y_train, cv=5))\n",
    "print(\"Validation Score:\" + str(scores))"
   ]
  },
  {
   "cell_type": "markdown",
   "metadata": {},
   "source": [
    "## Evaluation\n",
    "---\n",
    "As mentioned earlier, the final model we went with was the tuned Multinomial Bayes model that used the Tfidf vectorizer. We opted for this model over the others as it had the highest accuracy score while maintaining the least amount of differente between training and validation sets, indicating it was the model that overfit the least. The final score of the model based on the test data is printed below."
   ]
  },
  {
   "cell_type": "code",
   "execution_count": 82,
   "metadata": {},
   "outputs": [
    {
     "data": {
      "text/plain": [
       "0.6330140014738393"
      ]
     },
     "execution_count": 82,
     "metadata": {},
     "output_type": "execute_result"
    }
   ],
   "source": [
    "apple_tuned.score(X_test, y_test)"
   ]
  },
  {
   "cell_type": "markdown",
   "metadata": {},
   "source": [
    "Therefore, the final accuracy score of the model is 63%. As for why we have been using accuracy as the metric, it's because in terms of false positives and false negatives for sentiment there's not any one we want to avoid more. As we are trying to get a gauge of customer interest across three different sentiment types, we did not want to avoid one misclassification over the other, as we do not care more for any one particular sentiment. Therefore, we opted for accuracy as our metric to find the model that would perform the best overall. For curiosities sake, the confusion matric for the model is printed below just to see its overall performance."
   ]
  },
  {
   "cell_type": "code",
   "execution_count": 91,
   "metadata": {},
   "outputs": [
    {
     "data": {
      "image/png": "[encoded data removed]",
      "text/plain": [
       "<Figure size 432x288 with 2 Axes>"
      ]
     },
     "metadata": {
      "needs_background": "light"
     },
     "output_type": "display_data"
    }
   ],
   "source": [
    "from sklearn.metrics import ConfusionMatrixDisplay, confusion_matrix\n",
    "\n",
    "y_hat = apple_tuned.predict(X_test)\n",
    "cm = confusion_matrix(y_test, y_hat)\n",
    "cmdis = ConfusionMatrixDisplay(cm)\n",
    "cmdis.plot();"
   ]
  },
  {
   "cell_type": "markdown",
   "metadata": {},
   "source": [
    "While the final model's accuracy has gone up from around 45% to 63%, there is still improvements to be made and also a bit of overfitting still present in the model. As seen in the confusion matrix, the model still has a hard time identifying positive and negative sentiment as non-neutral. Therefore, while the current model may be faster than having someone determine the sentiment of a tweet on their own, there is still more work to be done before the model could be deployed and prove truly useful to Apple's product team."
   ]
  },
  {
   "cell_type": "markdown",
   "metadata": {},
   "source": [
    "## Conclusion\n",
    "---\n",
    "**Add recommendations based on model.** While the model improved from the first pass, it still doesn't distinguish non-neutral tweets from neutral ones very well. Therefore, this model might not fully solve the business problem. Furthermore, this sentiment analysis only looked at tweets, but consumers likely post about Apple on other platforms as well. That's why, going forward, it would be interesting to try and implement sentiment analysis for different platforms to try and gauge consumers on other platforms. Furthermore, making the sentiment labels themselves more fine grained would provide more insight into how strongly consumers feel, so incorporating that into the project in the future may yield better results."
   ]
  }
 ],
 "metadata": {
  "kernelspec": {
   "display_name": "Python (learn-env)",
   "language": "python",
   "name": "learn-env"
  },
  "language_info": {
   "codemirror_mode": {
    "name": "ipython",
    "version": 3
   },
   "file_extension": ".py",
   "mimetype": "text/x-python",
   "name": "python",
   "nbconvert_exporter": "python",
   "pygments_lexer": "ipython3",
   "version": "3.8.5"
  }
 },
 "nbformat": 4,
 "nbformat_minor": 4
}
